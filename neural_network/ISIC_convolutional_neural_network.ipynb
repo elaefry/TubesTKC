{
  "nbformat": 4,
  "nbformat_minor": 0,
  "metadata": {
    "colab": {
      "name": "ISIC convolutional_neural_network.ipynb",
      "provenance": [],
      "collapsed_sections": [],
      "include_colab_link": true
    },
    "kernelspec": {
      "name": "python3",
      "display_name": "Python 3"
    },
    "language_info": {
      "name": "python"
    },
    "accelerator": "GPU"
  },
  "cells": [
    {
      "cell_type": "markdown",
      "metadata": {
        "id": "view-in-github",
        "colab_type": "text"
      },
      "source": [
        "<a href=\"https://colab.research.google.com/github/elaefry/TubesTKC/blob/main/neural_network/ISIC_convolutional_neural_network.ipynb\" target=\"_parent\"><img src=\"https://colab.research.google.com/assets/colab-badge.svg\" alt=\"Open In Colab\"/></a>"
      ]
    },
    {
      "cell_type": "code",
      "metadata": {
        "colab": {
          "base_uri": "https://localhost:8080/"
        },
        "id": "cQMdi9VXzc00",
        "outputId": "d64f45a6-6397-4fba-8020-e9299ee044a4"
      },
      "source": [
        "from google.colab import drive\n",
        "drive.mount(\"/content/gdrive\")"
      ],
      "execution_count": 1,
      "outputs": [
        {
          "output_type": "stream",
          "name": "stdout",
          "text": [
            "Mounted at /content/gdrive\n"
          ]
        }
      ]
    },
    {
      "cell_type": "code",
      "metadata": {
        "id": "zKk4F-YC0blq"
      },
      "source": [
        "import os\n",
        "import zipfile\n",
        "\n",
        "local_zip = '/content/gdrive/My Drive/TKC/archive (1).zip'\n",
        "zip_ref = zipfile.ZipFile(local_zip, 'r')\n",
        "zip_ref.extractall('/content')\n",
        "zip_ref.close()"
      ],
      "execution_count": 2,
      "outputs": []
    },
    {
      "cell_type": "code",
      "metadata": {
        "id": "EAEMzyVlSg8w"
      },
      "source": [
        "import os\n",
        "import tensorflow as tf\n",
        "from tensorflow.keras import layers\n",
        "from tensorflow.keras import Model\n",
        "from os import getcwd\n",
        "import zipfile\n",
        "import shutil\n",
        "import numpy as np\n",
        "import glob\n",
        "import random\n",
        "import pandas as pd\n",
        "import keras\n",
        "from tensorflow.keras.optimizers import RMSprop, Adam\n",
        "from tensorflow.keras.applications.vgg16 import VGG16\n",
        "from tensorflow.keras.preprocessing.image import ImageDataGenerator\n",
        "from sklearn.metrics import confusion_matrix,accuracy_score\n",
        "from sklearn.model_selection import train_test_split\n",
        "import pathlib\n",
        "import pathlib\n",
        "import tensorflow as tf\n",
        "import matplotlib.pyplot as plt\n",
        "import numpy as np\n",
        "import pandas as pd\n",
        "import os\n",
        "import PIL\n",
        "import glob\n",
        "from tensorflow.keras.layers import Conv2D, MaxPooling2D, Activation, Flatten, Dense, Dropout, BatchNormalization\n",
        "from tensorflow.keras.losses import SparseCategoricalCrossentropy"
      ],
      "execution_count": 3,
      "outputs": []
    },
    {
      "cell_type": "code",
      "metadata": {
        "colab": {
          "base_uri": "https://localhost:8080/"
        },
        "id": "8HqTqhRnS8WH",
        "outputId": "c45c7a86-693a-4dd2-d40a-a0428b820bc8"
      },
      "source": [
        "!pip install Augmentor"
      ],
      "execution_count": 4,
      "outputs": [
        {
          "output_type": "stream",
          "name": "stdout",
          "text": [
            "Collecting Augmentor\n",
            "  Downloading Augmentor-0.2.9-py2.py3-none-any.whl (38 kB)\n",
            "Requirement already satisfied: tqdm>=4.9.0 in /usr/local/lib/python3.7/dist-packages (from Augmentor) (4.62.3)\n",
            "Requirement already satisfied: future>=0.16.0 in /usr/local/lib/python3.7/dist-packages (from Augmentor) (0.16.0)\n",
            "Requirement already satisfied: numpy>=1.11.0 in /usr/local/lib/python3.7/dist-packages (from Augmentor) (1.19.5)\n",
            "Requirement already satisfied: Pillow>=5.2.0 in /usr/local/lib/python3.7/dist-packages (from Augmentor) (7.1.2)\n",
            "Installing collected packages: Augmentor\n",
            "Successfully installed Augmentor-0.2.9\n"
          ]
        }
      ]
    },
    {
      "cell_type": "code",
      "metadata": {
        "colab": {
          "base_uri": "https://localhost:8080/"
        },
        "id": "dQxfntWqTBBC",
        "outputId": "ebdee9ed-b2ed-4ef0-8589-879393e51a8a"
      },
      "source": [
        "import Augmentor\n",
        "path_to_training_dataset = '/content/Skin cancer ISIC The International Skin Imaging Collaboration/Train/'\n",
        "class_names=['actinic keratosis','basal cell carcinoma','dermatofibroma','melanoma','nevus','pigmented benign keratosis','seborrheic keratosis','squamous cell carcinoma','vascular lesion']\n",
        "for i in class_names:\n",
        "    p = Augmentor.Pipeline(path_to_training_dataset + i, output_directory='/kaggle/working/upsampled/'+i+'/output/')\n",
        "    p.rotate(probability=0.7, max_left_rotation=10, max_right_rotation=10)\n",
        "    p.sample(1000) "
      ],
      "execution_count": 5,
      "outputs": [
        {
          "output_type": "stream",
          "name": "stdout",
          "text": [
            "Initialised with 114 image(s) found.\n",
            "Output directory set to /kaggle/working/upsampled/actinic keratosis/output/."
          ]
        },
        {
          "output_type": "stream",
          "name": "stderr",
          "text": [
            "Processing <PIL.Image.Image image mode=RGB size=600x450 at 0x7FB56AC1F3D0>: 100%|██████████| 1000/1000 [00:38<00:00, 25.91 Samples/s]\n"
          ]
        },
        {
          "output_type": "stream",
          "name": "stdout",
          "text": [
            "Initialised with 376 image(s) found.\n",
            "Output directory set to /kaggle/working/upsampled/basal cell carcinoma/output/."
          ]
        },
        {
          "output_type": "stream",
          "name": "stderr",
          "text": [
            "Processing <PIL.JpegImagePlugin.JpegImageFile image mode=RGB size=600x450 at 0x7FB56FEAB650>: 100%|██████████| 1000/1000 [00:37<00:00, 26.43 Samples/s]\n"
          ]
        },
        {
          "output_type": "stream",
          "name": "stdout",
          "text": [
            "Initialised with 95 image(s) found.\n",
            "Output directory set to /kaggle/working/upsampled/dermatofibroma/output/."
          ]
        },
        {
          "output_type": "stream",
          "name": "stderr",
          "text": [
            "Processing <PIL.Image.Image image mode=RGB size=600x450 at 0x7FB56FE9A950>: 100%|██████████| 1000/1000 [00:39<00:00, 25.42 Samples/s]\n"
          ]
        },
        {
          "output_type": "stream",
          "name": "stdout",
          "text": [
            "Initialised with 438 image(s) found.\n",
            "Output directory set to /kaggle/working/upsampled/melanoma/output/."
          ]
        },
        {
          "output_type": "stream",
          "name": "stderr",
          "text": [
            "Processing <PIL.JpegImagePlugin.JpegImageFile image mode=RGB size=1024x768 at 0x7FB56ABFD350>: 100%|██████████| 1000/1000 [03:02<00:00,  5.47 Samples/s]\n"
          ]
        },
        {
          "output_type": "stream",
          "name": "stdout",
          "text": [
            "Initialised with 357 image(s) found.\n",
            "Output directory set to /kaggle/working/upsampled/nevus/output/."
          ]
        },
        {
          "output_type": "stream",
          "name": "stderr",
          "text": [
            "Processing <PIL.JpegImagePlugin.JpegImageFile image mode=RGB size=600x450 at 0x7FB56ACF1B10>: 100%|██████████| 1000/1000 [03:01<00:00,  5.51 Samples/s]\n"
          ]
        },
        {
          "output_type": "stream",
          "name": "stdout",
          "text": [
            "Initialised with 462 image(s) found.\n",
            "Output directory set to /kaggle/working/upsampled/pigmented benign keratosis/output/."
          ]
        },
        {
          "output_type": "stream",
          "name": "stderr",
          "text": [
            "Processing <PIL.Image.Image image mode=RGB size=600x450 at 0x7FB56ADC9310>: 100%|██████████| 1000/1000 [00:37<00:00, 26.52 Samples/s]\n"
          ]
        },
        {
          "output_type": "stream",
          "name": "stdout",
          "text": [
            "Initialised with 77 image(s) found.\n",
            "Output directory set to /kaggle/working/upsampled/seborrheic keratosis/output/."
          ]
        },
        {
          "output_type": "stream",
          "name": "stderr",
          "text": [
            "Processing <PIL.Image.Image image mode=RGB size=1024x768 at 0x7FB57C89CA10>: 100%|██████████| 1000/1000 [01:31<00:00, 10.89 Samples/s]\n"
          ]
        },
        {
          "output_type": "stream",
          "name": "stdout",
          "text": [
            "Initialised with 181 image(s) found.\n",
            "Output directory set to /kaggle/working/upsampled/squamous cell carcinoma/output/."
          ]
        },
        {
          "output_type": "stream",
          "name": "stderr",
          "text": [
            "Processing <PIL.Image.Image image mode=RGB size=600x450 at 0x7FB56FEA4590>: 100%|██████████| 1000/1000 [00:39<00:00, 25.50 Samples/s]\n"
          ]
        },
        {
          "output_type": "stream",
          "name": "stdout",
          "text": [
            "Initialised with 139 image(s) found.\n",
            "Output directory set to /kaggle/working/upsampled/vascular lesion/output/."
          ]
        },
        {
          "output_type": "stream",
          "name": "stderr",
          "text": [
            "Processing <PIL.Image.Image image mode=RGB size=600x450 at 0x7FB56AC2A090>: 100%|██████████| 1000/1000 [00:38<00:00, 25.72 Samples/s]\n"
          ]
        }
      ]
    },
    {
      "cell_type": "code",
      "metadata": {
        "id": "iLTL6tvFW8Fx"
      },
      "source": [
        "output_dir = pathlib.Path('/kaggle/working/upsampled')"
      ],
      "execution_count": 7,
      "outputs": []
    },
    {
      "cell_type": "code",
      "metadata": {
        "id": "X5I3WHmsTKja"
      },
      "source": [
        "class1 =  glob.glob('/kaggle/working/upsampled/melanoma/output/*.jpg')\n",
        "class2 =  glob.glob('/kaggle/working/upsampled/squamous cell carcinoma/output/*.jpg')\n",
        "class3 =  glob.glob('/kaggle/working/upsampled/pigmented benign keratosis/output/*.jpg')\n",
        "class4 =  glob.glob('/kaggle/working/upsampled/dermatofibroma/output/*.jpg')\n",
        "class5 =  glob.glob('/kaggle/working/upsampled/nevus/output/*.jpg')\n",
        "class6 =  glob.glob('/kaggle/working/upsampled/seborrheic keratosis/output/*.jpg')\n",
        "class7 =  glob.glob('/kaggle/working/upsampled/basal cell carcinoma/output/*.jpg')\n",
        "class8 =  glob.glob('/kaggle/working/upsampled/squamous cell carcinoma/output/*.jpg')\n",
        "class9 =  glob.glob('/kaggle/working/upsampled/vascular lesion/output/*.jpg')\n",
        "\n",
        "class1_df = []\n",
        "class2_df = []\n",
        "class3_df = []\n",
        "class4_df = []\n",
        "class5_df = []\n",
        "class6_df = []\n",
        "class7_df = []\n",
        "class8_df = []\n",
        "class9_df = []\n",
        "\n",
        "for i in class1:\n",
        "    class1_df.append([i,'actinic keratosis'])\n",
        "\n",
        "for i in class2:\n",
        "    class2_df.append([i,'basal cell carcinoma'])\n",
        "    \n",
        "for i in class3:\n",
        "    class3_df.append([i,'dermatofibroma'])\n",
        "\n",
        "for i in class4:\n",
        "    class4_df.append([i,'melanoma'])\n",
        "    \n",
        "for i in class5:\n",
        "    class5_df.append([i,'nevus'])\n",
        "    \n",
        "for i in class6:\n",
        "    class6_df.append([i,'pigmented benign keratosis'])\n",
        "\n",
        "for i in class7:\n",
        "    class7_df.append([i,'seborrheic keratosis'])\n",
        "\n",
        "for i in class8:\n",
        "    class8_df.append([i,'squamous cell carcinoma'])\n",
        "\n",
        "for i in class9:\n",
        "    class9_df.append([i,'vascular lesion'])"
      ],
      "execution_count": 8,
      "outputs": []
    },
    {
      "cell_type": "code",
      "metadata": {
        "id": "cneEB9CzTtAf"
      },
      "source": [
        "df=class1_df+class2_df+class3_df+class4_df+class5_df+class6_df+class7_df+class8_df+class9_df\n",
        "random.shuffle(df)\n",
        "data_df = pd.DataFrame(df, columns = ['path','label'])"
      ],
      "execution_count": 9,
      "outputs": []
    },
    {
      "cell_type": "code",
      "metadata": {
        "colab": {
          "base_uri": "https://localhost:8080/",
          "height": 423
        },
        "id": "0-K5CCoETxwa",
        "outputId": "833761df-f14f-4b1c-cb79-33e7427736f8"
      },
      "source": [
        "data_df"
      ],
      "execution_count": 10,
      "outputs": [
        {
          "output_type": "execute_result",
          "data": {
            "text/html": [
              "<div>\n",
              "<style scoped>\n",
              "    .dataframe tbody tr th:only-of-type {\n",
              "        vertical-align: middle;\n",
              "    }\n",
              "\n",
              "    .dataframe tbody tr th {\n",
              "        vertical-align: top;\n",
              "    }\n",
              "\n",
              "    .dataframe thead th {\n",
              "        text-align: right;\n",
              "    }\n",
              "</style>\n",
              "<table border=\"1\" class=\"dataframe\">\n",
              "  <thead>\n",
              "    <tr style=\"text-align: right;\">\n",
              "      <th></th>\n",
              "      <th>path</th>\n",
              "      <th>label</th>\n",
              "    </tr>\n",
              "  </thead>\n",
              "  <tbody>\n",
              "    <tr>\n",
              "      <th>0</th>\n",
              "      <td>/kaggle/working/upsampled/nevus/output/nevus_o...</td>\n",
              "      <td>nevus</td>\n",
              "    </tr>\n",
              "    <tr>\n",
              "      <th>1</th>\n",
              "      <td>/kaggle/working/upsampled/nevus/output/nevus_o...</td>\n",
              "      <td>nevus</td>\n",
              "    </tr>\n",
              "    <tr>\n",
              "      <th>2</th>\n",
              "      <td>/kaggle/working/upsampled/basal cell carcinoma...</td>\n",
              "      <td>seborrheic keratosis</td>\n",
              "    </tr>\n",
              "    <tr>\n",
              "      <th>3</th>\n",
              "      <td>/kaggle/working/upsampled/seborrheic keratosis...</td>\n",
              "      <td>pigmented benign keratosis</td>\n",
              "    </tr>\n",
              "    <tr>\n",
              "      <th>4</th>\n",
              "      <td>/kaggle/working/upsampled/nevus/output/nevus_o...</td>\n",
              "      <td>nevus</td>\n",
              "    </tr>\n",
              "    <tr>\n",
              "      <th>...</th>\n",
              "      <td>...</td>\n",
              "      <td>...</td>\n",
              "    </tr>\n",
              "    <tr>\n",
              "      <th>8995</th>\n",
              "      <td>/kaggle/working/upsampled/vascular lesion/outp...</td>\n",
              "      <td>vascular lesion</td>\n",
              "    </tr>\n",
              "    <tr>\n",
              "      <th>8996</th>\n",
              "      <td>/kaggle/working/upsampled/melanoma/output/mela...</td>\n",
              "      <td>actinic keratosis</td>\n",
              "    </tr>\n",
              "    <tr>\n",
              "      <th>8997</th>\n",
              "      <td>/kaggle/working/upsampled/squamous cell carcin...</td>\n",
              "      <td>squamous cell carcinoma</td>\n",
              "    </tr>\n",
              "    <tr>\n",
              "      <th>8998</th>\n",
              "      <td>/kaggle/working/upsampled/basal cell carcinoma...</td>\n",
              "      <td>seborrheic keratosis</td>\n",
              "    </tr>\n",
              "    <tr>\n",
              "      <th>8999</th>\n",
              "      <td>/kaggle/working/upsampled/seborrheic keratosis...</td>\n",
              "      <td>pigmented benign keratosis</td>\n",
              "    </tr>\n",
              "  </tbody>\n",
              "</table>\n",
              "<p>9000 rows × 2 columns</p>\n",
              "</div>"
            ],
            "text/plain": [
              "                                                   path                       label\n",
              "0     /kaggle/working/upsampled/nevus/output/nevus_o...                       nevus\n",
              "1     /kaggle/working/upsampled/nevus/output/nevus_o...                       nevus\n",
              "2     /kaggle/working/upsampled/basal cell carcinoma...        seborrheic keratosis\n",
              "3     /kaggle/working/upsampled/seborrheic keratosis...  pigmented benign keratosis\n",
              "4     /kaggle/working/upsampled/nevus/output/nevus_o...                       nevus\n",
              "...                                                 ...                         ...\n",
              "8995  /kaggle/working/upsampled/vascular lesion/outp...             vascular lesion\n",
              "8996  /kaggle/working/upsampled/melanoma/output/mela...           actinic keratosis\n",
              "8997  /kaggle/working/upsampled/squamous cell carcin...     squamous cell carcinoma\n",
              "8998  /kaggle/working/upsampled/basal cell carcinoma...        seborrheic keratosis\n",
              "8999  /kaggle/working/upsampled/seborrheic keratosis...  pigmented benign keratosis\n",
              "\n",
              "[9000 rows x 2 columns]"
            ]
          },
          "metadata": {},
          "execution_count": 10
        }
      ]
    },
    {
      "cell_type": "code",
      "metadata": {
        "colab": {
          "base_uri": "https://localhost:8080/"
        },
        "id": "uw6ohSmGT0Vt",
        "outputId": "6b7ed7b6-105f-42d3-bd21-2b3ffb0a522c"
      },
      "source": [
        "datagen = ImageDataGenerator(\n",
        "                             height_shift_range=0.2,\n",
        "                             width_shift_range=0.2,\n",
        "                             horizontal_flip=True,\n",
        "                             validation_split=0.2)\n",
        "\n",
        "train_generator = datagen.flow_from_dataframe(data_df,\n",
        "                                              x_col='path',\n",
        "                                              y_col='label',\n",
        "                                              images_size=(180,180),\n",
        "                                              class_mode='categorical',\n",
        "                                              color_mode='rgb',\n",
        "                                              subset='training')\n",
        "\n",
        "validation_generator = datagen.flow_from_dataframe(data_df,\n",
        "                                                   x_col='path',\n",
        "                                                   y_col='label',\n",
        "                                                   images_size=(180,180),\n",
        "                                                   class_mode='categorical',\n",
        "                                                   color_mode='rgb',\n",
        "                                                   subset='validation')"
      ],
      "execution_count": 11,
      "outputs": [
        {
          "output_type": "stream",
          "name": "stdout",
          "text": [
            "Found 7200 validated image filenames belonging to 9 classes.\n",
            "Found 1800 validated image filenames belonging to 9 classes.\n"
          ]
        }
      ]
    },
    {
      "cell_type": "code",
      "metadata": {
        "colab": {
          "base_uri": "https://localhost:8080/"
        },
        "id": "tA5Jjl9wUFMe",
        "outputId": "21b81092-2e7f-42b9-ebce-5fc15f16c716"
      },
      "source": [
        "import PIL\n",
        "\n",
        "from PIL import Image\n",
        "image = PIL.Image.open(\"/content/Skin cancer ISIC The International Skin Imaging Collaboration/Train/actinic keratosis/ISIC_0026575.jpg\")\n",
        "\n",
        "\n",
        "width, height = image.size\n",
        "\n",
        "\n",
        "print(width, height)"
      ],
      "execution_count": 12,
      "outputs": [
        {
          "output_type": "stream",
          "name": "stdout",
          "text": [
            "600 450\n"
          ]
        }
      ]
    },
    {
      "cell_type": "code",
      "metadata": {
        "colab": {
          "base_uri": "https://localhost:8080/"
        },
        "id": "uBp9xljCUlXM",
        "outputId": "4b050dd0-4650-484a-cd10-d328646c5ade"
      },
      "source": [
        "train_ds = tf.keras.preprocessing.image_dataset_from_directory(\n",
        "  output_dir,\n",
        "  seed=123,\n",
        "  validation_split = 0.2,\n",
        "  subset = 'training',\n",
        "  \n",
        "  image_size=(256,256),\n",
        "  )"
      ],
      "execution_count": 13,
      "outputs": [
        {
          "output_type": "stream",
          "name": "stdout",
          "text": [
            "Found 9000 files belonging to 9 classes.\n",
            "Using 7200 files for training.\n"
          ]
        }
      ]
    },
    {
      "cell_type": "code",
      "metadata": {
        "colab": {
          "base_uri": "https://localhost:8080/"
        },
        "id": "oF_QGwRHXgSO",
        "outputId": "3bac4146-10db-4ac3-bf83-6dc7d725d8d3"
      },
      "source": [
        "val_ds = tf.keras.preprocessing.image_dataset_from_directory(\n",
        "  output_dir,\n",
        "  seed=123,\n",
        "  validation_split = 0.2,\n",
        "  subset = 'validation',\n",
        "  \n",
        "  image_size=(256,256),\n",
        "  )"
      ],
      "execution_count": 16,
      "outputs": [
        {
          "output_type": "stream",
          "name": "stdout",
          "text": [
            "Found 9000 files belonging to 9 classes.\n",
            "Using 1800 files for validation.\n"
          ]
        }
      ]
    },
    {
      "cell_type": "code",
      "metadata": {
        "id": "KfEcwiW_XG61"
      },
      "source": [
        "AUTOTUNE = tf.data.experimental.AUTOTUNE\n",
        "train_ds = train_ds.cache().shuffle(1000).prefetch(buffer_size=AUTOTUNE)\n",
        "val_ds = val_ds.cache().prefetch(buffer_size=AUTOTUNE)"
      ],
      "execution_count": 17,
      "outputs": []
    },
    {
      "cell_type": "code",
      "metadata": {
        "colab": {
          "base_uri": "https://localhost:8080/"
        },
        "id": "CO4ANvI2XoBP",
        "outputId": "31e3b611-b3b8-4f31-ac7f-24b7e0ffba6d"
      },
      "source": [
        "model = keras.Sequential()\n",
        "\n",
        "model.add(layers.experimental.preprocessing.Rescaling(1./255, input_shape=(256, 256, 3)))\n",
        "model.add(layers.Conv2D(16, 3, padding='same',))\n",
        "model.add(Activation('relu'))\n",
        "model.add(MaxPooling2D())\n",
        "model.add(Dropout(0.05))\n",
        "\n",
        "model.add(layers.Conv2D(32, 3, padding='same',))\n",
        "model.add(Activation('relu'))\n",
        "model.add(MaxPooling2D())\n",
        "model.add(Dropout(0.05))\n",
        "\n",
        "model.add(layers.Conv2D(64, 3, padding='same',))\n",
        "model.add(Activation('relu'))\n",
        "model.add(MaxPooling2D())\n",
        "model.add(Dropout(0.2))\n",
        "\n",
        "model.add(layers.Conv2D(128, 3, padding='same',))\n",
        "model.add(Activation('relu'))\n",
        "model.add(MaxPooling2D())\n",
        "model.add(Dropout(0.05))\n",
        "\n",
        "model.add(layers.Conv2D(256, 3, padding='same',))\n",
        "model.add(Activation('relu'))\n",
        "model.add(MaxPooling2D())\n",
        "model.add(Dropout(0.05))\n",
        "\n",
        "model.add(Flatten())\n",
        "model.add(Dense(256))\n",
        "model.add(Activation('sigmoid'))\n",
        "model.add(Dense(9))\n",
        "\n",
        "model.summary()"
      ],
      "execution_count": 18,
      "outputs": [
        {
          "output_type": "stream",
          "name": "stdout",
          "text": [
            "Model: \"sequential\"\n",
            "_________________________________________________________________\n",
            "Layer (type)                 Output Shape              Param #   \n",
            "=================================================================\n",
            "rescaling (Rescaling)        (None, 256, 256, 3)       0         \n",
            "_________________________________________________________________\n",
            "conv2d (Conv2D)              (None, 256, 256, 16)      448       \n",
            "_________________________________________________________________\n",
            "activation (Activation)      (None, 256, 256, 16)      0         \n",
            "_________________________________________________________________\n",
            "max_pooling2d (MaxPooling2D) (None, 128, 128, 16)      0         \n",
            "_________________________________________________________________\n",
            "dropout (Dropout)            (None, 128, 128, 16)      0         \n",
            "_________________________________________________________________\n",
            "conv2d_1 (Conv2D)            (None, 128, 128, 32)      4640      \n",
            "_________________________________________________________________\n",
            "activation_1 (Activation)    (None, 128, 128, 32)      0         \n",
            "_________________________________________________________________\n",
            "max_pooling2d_1 (MaxPooling2 (None, 64, 64, 32)        0         \n",
            "_________________________________________________________________\n",
            "dropout_1 (Dropout)          (None, 64, 64, 32)        0         \n",
            "_________________________________________________________________\n",
            "conv2d_2 (Conv2D)            (None, 64, 64, 64)        18496     \n",
            "_________________________________________________________________\n",
            "activation_2 (Activation)    (None, 64, 64, 64)        0         \n",
            "_________________________________________________________________\n",
            "max_pooling2d_2 (MaxPooling2 (None, 32, 32, 64)        0         \n",
            "_________________________________________________________________\n",
            "dropout_2 (Dropout)          (None, 32, 32, 64)        0         \n",
            "_________________________________________________________________\n",
            "conv2d_3 (Conv2D)            (None, 32, 32, 128)       73856     \n",
            "_________________________________________________________________\n",
            "activation_3 (Activation)    (None, 32, 32, 128)       0         \n",
            "_________________________________________________________________\n",
            "max_pooling2d_3 (MaxPooling2 (None, 16, 16, 128)       0         \n",
            "_________________________________________________________________\n",
            "dropout_3 (Dropout)          (None, 16, 16, 128)       0         \n",
            "_________________________________________________________________\n",
            "conv2d_4 (Conv2D)            (None, 16, 16, 256)       295168    \n",
            "_________________________________________________________________\n",
            "activation_4 (Activation)    (None, 16, 16, 256)       0         \n",
            "_________________________________________________________________\n",
            "max_pooling2d_4 (MaxPooling2 (None, 8, 8, 256)         0         \n",
            "_________________________________________________________________\n",
            "dropout_4 (Dropout)          (None, 8, 8, 256)         0         \n",
            "_________________________________________________________________\n",
            "flatten (Flatten)            (None, 16384)             0         \n",
            "_________________________________________________________________\n",
            "dense (Dense)                (None, 256)               4194560   \n",
            "_________________________________________________________________\n",
            "activation_5 (Activation)    (None, 256)               0         \n",
            "_________________________________________________________________\n",
            "dense_1 (Dense)              (None, 9)                 2313      \n",
            "=================================================================\n",
            "Total params: 4,589,481\n",
            "Trainable params: 4,589,481\n",
            "Non-trainable params: 0\n",
            "_________________________________________________________________\n"
          ]
        }
      ]
    },
    {
      "cell_type": "code",
      "metadata": {
        "colab": {
          "base_uri": "https://localhost:8080/"
        },
        "id": "ZO0xjO-8XwRE",
        "outputId": "862f552d-3e45-4536-e6e1-0e081c4aa2f5"
      },
      "source": [
        "from tensorflow.keras.optimizers import Adam\n",
        "\n",
        "# Compile model\n",
        "model.compile(loss=SparseCategoricalCrossentropy(from_logits=True),\n",
        "              optimizer=Adam(lr=0.001),\n",
        "              metrics=['acc'])"
      ],
      "execution_count": 19,
      "outputs": [
        {
          "output_type": "stream",
          "name": "stderr",
          "text": [
            "/usr/local/lib/python3.7/dist-packages/keras/optimizer_v2/optimizer_v2.py:356: UserWarning: The `lr` argument is deprecated, use `learning_rate` instead.\n",
            "  \"The `lr` argument is deprecated, use `learning_rate` instead.\")\n"
          ]
        }
      ]
    },
    {
      "cell_type": "code",
      "metadata": {
        "colab": {
          "base_uri": "https://localhost:8080/"
        },
        "id": "5sY9IgniX65A",
        "outputId": "5e8b0ace-0066-4d57-ebd3-d3c514218aee"
      },
      "source": [
        "history = model.fit(train_ds,\n",
        "                               epochs=30,\n",
        "                               validation_data=val_ds)"
      ],
      "execution_count": 20,
      "outputs": [
        {
          "output_type": "stream",
          "name": "stdout",
          "text": [
            "Epoch 1/30\n",
            "225/225 [==============================] - 83s 124ms/step - loss: 1.8156 - acc: 0.2682 - val_loss: 1.6430 - val_acc: 0.3267\n",
            "Epoch 2/30\n",
            "225/225 [==============================] - 21s 94ms/step - loss: 1.4553 - acc: 0.4264 - val_loss: 1.3613 - val_acc: 0.4694\n",
            "Epoch 3/30\n",
            "225/225 [==============================] - 21s 93ms/step - loss: 1.2885 - acc: 0.5061 - val_loss: 1.2060 - val_acc: 0.5444\n",
            "Epoch 4/30\n",
            "225/225 [==============================] - 21s 93ms/step - loss: 1.1169 - acc: 0.5836 - val_loss: 1.0407 - val_acc: 0.5989\n",
            "Epoch 5/30\n",
            "225/225 [==============================] - 21s 93ms/step - loss: 0.9110 - acc: 0.6594 - val_loss: 0.8699 - val_acc: 0.6839\n",
            "Epoch 6/30\n",
            "225/225 [==============================] - 21s 93ms/step - loss: 0.6929 - acc: 0.7432 - val_loss: 0.6916 - val_acc: 0.7528\n",
            "Epoch 7/30\n",
            "225/225 [==============================] - 21s 93ms/step - loss: 0.5580 - acc: 0.8021 - val_loss: 0.6385 - val_acc: 0.7722\n",
            "Epoch 8/30\n",
            "225/225 [==============================] - 21s 93ms/step - loss: 0.4237 - acc: 0.8533 - val_loss: 0.6314 - val_acc: 0.7728\n",
            "Epoch 9/30\n",
            "225/225 [==============================] - 21s 93ms/step - loss: 0.3369 - acc: 0.8835 - val_loss: 0.4943 - val_acc: 0.8372\n",
            "Epoch 10/30\n",
            "225/225 [==============================] - 21s 93ms/step - loss: 0.3254 - acc: 0.8865 - val_loss: 0.4433 - val_acc: 0.8611\n",
            "Epoch 11/30\n",
            "225/225 [==============================] - 21s 93ms/step - loss: 0.2837 - acc: 0.9035 - val_loss: 0.4702 - val_acc: 0.8450\n",
            "Epoch 12/30\n",
            "225/225 [==============================] - 21s 93ms/step - loss: 0.2572 - acc: 0.9118 - val_loss: 0.4258 - val_acc: 0.8667\n",
            "Epoch 13/30\n",
            "225/225 [==============================] - 21s 93ms/step - loss: 0.2167 - acc: 0.9271 - val_loss: 0.4894 - val_acc: 0.8439\n",
            "Epoch 14/30\n",
            "225/225 [==============================] - 21s 93ms/step - loss: 0.2059 - acc: 0.9271 - val_loss: 0.4423 - val_acc: 0.8561\n",
            "Epoch 15/30\n",
            "225/225 [==============================] - 21s 94ms/step - loss: 0.2189 - acc: 0.9228 - val_loss: 0.3978 - val_acc: 0.8783\n",
            "Epoch 16/30\n",
            "225/225 [==============================] - 21s 94ms/step - loss: 0.1948 - acc: 0.9331 - val_loss: 0.4262 - val_acc: 0.8600\n",
            "Epoch 17/30\n",
            "225/225 [==============================] - 21s 93ms/step - loss: 0.2011 - acc: 0.9271 - val_loss: 0.4861 - val_acc: 0.8367\n",
            "Epoch 18/30\n",
            "225/225 [==============================] - 21s 93ms/step - loss: 0.1827 - acc: 0.9364 - val_loss: 0.4014 - val_acc: 0.8728\n",
            "Epoch 19/30\n",
            "225/225 [==============================] - 21s 94ms/step - loss: 0.1893 - acc: 0.9321 - val_loss: 0.4189 - val_acc: 0.8694\n",
            "Epoch 20/30\n",
            "225/225 [==============================] - 21s 93ms/step - loss: 0.1624 - acc: 0.9400 - val_loss: 0.4901 - val_acc: 0.8422\n",
            "Epoch 21/30\n",
            "225/225 [==============================] - 21s 93ms/step - loss: 0.1570 - acc: 0.9439 - val_loss: 0.4150 - val_acc: 0.8706\n",
            "Epoch 22/30\n",
            "225/225 [==============================] - 21s 93ms/step - loss: 0.1516 - acc: 0.9453 - val_loss: 0.4525 - val_acc: 0.8717\n",
            "Epoch 23/30\n",
            "225/225 [==============================] - 21s 93ms/step - loss: 0.2691 - acc: 0.9047 - val_loss: 0.4593 - val_acc: 0.8572\n",
            "Epoch 24/30\n",
            "225/225 [==============================] - 21s 93ms/step - loss: 0.1582 - acc: 0.9432 - val_loss: 0.3939 - val_acc: 0.8867\n",
            "Epoch 25/30\n",
            "225/225 [==============================] - 21s 93ms/step - loss: 0.1615 - acc: 0.9408 - val_loss: 0.3930 - val_acc: 0.8811\n",
            "Epoch 26/30\n",
            "225/225 [==============================] - 21s 93ms/step - loss: 0.1646 - acc: 0.9369 - val_loss: 0.4425 - val_acc: 0.8667\n",
            "Epoch 27/30\n",
            "225/225 [==============================] - 21s 93ms/step - loss: 0.1653 - acc: 0.9415 - val_loss: 0.4671 - val_acc: 0.8594\n",
            "Epoch 28/30\n",
            "225/225 [==============================] - 21s 93ms/step - loss: 0.1918 - acc: 0.9293 - val_loss: 0.4522 - val_acc: 0.8639\n",
            "Epoch 29/30\n",
            "225/225 [==============================] - 21s 93ms/step - loss: 0.1568 - acc: 0.9443 - val_loss: 0.4706 - val_acc: 0.8606\n",
            "Epoch 30/30\n",
            "225/225 [==============================] - 21s 93ms/step - loss: 0.1354 - acc: 0.9506 - val_loss: 0.4530 - val_acc: 0.8667\n"
          ]
        }
      ]
    },
    {
      "cell_type": "code",
      "metadata": {
        "colab": {
          "base_uri": "https://localhost:8080/",
          "height": 299
        },
        "id": "1AM3ms3zE_AU",
        "outputId": "4d6f779c-15bc-4a1d-b6f3-feed2cd1a419"
      },
      "source": [
        "%matplotlib inline\n",
        "\n",
        "import matplotlib.pyplot as plt\n",
        "\n",
        "plt.style.use(\"ggplot\")\n",
        "plt.figure()\n",
        "plt.plot(np.arange(0, 30), history.history[\"loss\"], label=\"train_loss\")\n",
        "plt.plot(np.arange(0, 30), history.history[\"val_loss\"], label=\"val_loss\")\n",
        "plt.title(\"Loss Plot\")\n",
        "plt.xlabel(\"Epoch #\")\n",
        "plt.ylabel(\"Loss\")\n",
        "plt.legend()\n",
        "plt.show()"
      ],
      "execution_count": 23,
      "outputs": [
        {
          "output_type": "display_data",
          "data": {
            "image/png": "[encoded data removed]",
            "text/plain": [
              "<Figure size 432x288 with 1 Axes>"
            ]
          },
          "metadata": {}
        }
      ]
    },
    {
      "cell_type": "code",
      "metadata": {
        "colab": {
          "base_uri": "https://localhost:8080/",
          "height": 299
        },
        "id": "q1SJWudcFEDL",
        "outputId": "569f463c-08ac-49c1-d2f0-c84813ca92bb"
      },
      "source": [
        "plt.style.use(\"ggplot\")\n",
        "plt.figure()\n",
        "plt.plot(np.arange(0, 30), history.history[\"acc\"], label=\"train_acc\")\n",
        "plt.plot(np.arange(0, 30), history.history[\"val_acc\"], label=\"val_acc\")\n",
        "plt.title(\"Accuracy Plot\")\n",
        "plt.xlabel(\"Epoch #\")\n",
        "plt.ylabel(\"Acc\")\n",
        "plt.legend()\n",
        "plt.show()"
      ],
      "execution_count": 24,
      "outputs": [
        {
          "output_type": "display_data",
          "data": {
            "image/png": "[encoded data removed]",
            "text/plain": [
              "<Figure size 432x288 with 1 Axes>"
            ]
          },
          "metadata": {}
        }
      ]
    },
    {
      "cell_type": "code",
      "metadata": {
        "colab": {
          "base_uri": "https://localhost:8080/"
        },
        "id": "H_8mB3igFG-x",
        "outputId": "db2ab2b3-fb9b-4761-8c18-27ad1840b02c"
      },
      "source": [
        "test_loss, test_acc = model.evaluate(val_ds)\n",
        "\n",
        "print('Test accuracy:', test_acc)\n",
        "print('Test loss:', test_loss)"
      ],
      "execution_count": 29,
      "outputs": [
        {
          "output_type": "stream",
          "name": "stdout",
          "text": [
            "57/57 [==============================] - 2s 30ms/step - loss: 0.4530 - acc: 0.8667\n",
            "Test accuracy: 0.8666666746139526\n",
            "Test loss: 0.4529648423194885\n"
          ]
        }
      ]
    }
  ]
}